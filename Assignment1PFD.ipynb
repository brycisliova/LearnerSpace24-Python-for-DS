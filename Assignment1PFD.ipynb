{
 "cells": [
  {
   "cell_type": "code",
   "id": "initial_id",
   "metadata": {
    "collapsed": true,
    "ExecuteTime": {
     "end_time": "2024-07-09T15:56:33.516996Z",
     "start_time": "2024-07-09T15:56:33.394584Z"
    }
   },
   "source": [
    "import numpy as np\n",
    "\n",
    "# Create the array\n",
    "array = np.random.randint(1, 101, size=(5, 5))\n",
    "print(\"Original Array:\")\n",
    "print(array)\n"
   ],
   "outputs": [
    {
     "name": "stdout",
     "output_type": "stream",
     "text": [
      "Original Array:\n",
      "[[80 35 39 11 34]\n",
      " [17 17 67 24 78]\n",
      " [50 65  6 68 97]\n",
      " [41 82 84 27 74]\n",
      " [47 16 74 66 59]]\n"
     ]
    }
   ],
   "execution_count": 1
  },
  {
   "metadata": {
    "ExecuteTime": {
     "end_time": "2024-07-09T15:56:39.254046Z",
     "start_time": "2024-07-09T15:56:39.246239Z"
    }
   },
   "cell_type": "code",
   "source": [
    "middle_element = array[2, 2]\n",
    "print(\"\\nMiddle Element:\")\n",
    "print(middle_element)\n"
   ],
   "id": "9aa1aeb11874e84",
   "outputs": [
    {
     "name": "stdout",
     "output_type": "stream",
     "text": [
      "\n",
      "Middle Element:\n",
      "6\n"
     ]
    }
   ],
   "execution_count": 2
  },
  {
   "metadata": {
    "ExecuteTime": {
     "end_time": "2024-07-09T15:56:47.929354Z",
     "start_time": "2024-07-09T15:56:47.907197Z"
    }
   },
   "cell_type": "code",
   "source": [
    "mean_of_rows = np.mean(array, axis=1)\n",
    "print(\"\\nMean of Each Row:\")\n",
    "print(mean_of_rows)\n",
    " "
   ],
   "id": "627146a7a406849d",
   "outputs": [
    {
     "name": "stdout",
     "output_type": "stream",
     "text": [
      "\n",
      "Mean of Each Row:\n",
      "[39.8 40.6 57.2 61.6 52.4]\n"
     ]
    }
   ],
   "execution_count": 3
  },
  {
   "metadata": {
    "ExecuteTime": {
     "end_time": "2024-07-09T15:56:59.839323Z",
     "start_time": "2024-07-09T15:56:59.825589Z"
    }
   },
   "cell_type": "code",
   "source": [
    "overall_mean = np.mean(array)\n",
    "new_array = array[array > overall_mean]\n",
    "print(\"\\nElements Greater Than Overall Mean:\")\n",
    "print(new_array)\n"
   ],
   "id": "702b696b53d50406",
   "outputs": [
    {
     "name": "stdout",
     "output_type": "stream",
     "text": [
      "\n",
      "Elements Greater Than Overall Mean:\n",
      "[80 67 78 65 68 97 82 84 74 74 66 59]\n"
     ]
    }
   ],
   "execution_count": 4
  },
  {
   "metadata": {
    "ExecuteTime": {
     "end_time": "2024-07-09T15:57:07.732985Z",
     "start_time": "2024-07-09T15:57:07.718046Z"
    }
   },
   "cell_type": "code",
   "source": [
    "def numpy_spiral_order(matrix):\n",
    "    result = []\n",
    "    while matrix.size:\n",
    "        result += matrix[0].tolist()\n",
    "        matrix = np.rot90(matrix[1:])\n",
    "    return result\n",
    "\n",
    "# Example usage\n",
    "spiral_order = numpy_spiral_order(array)\n",
    "print(\"\\nSpiral Order:\")\n",
    "print(spiral_order)\n"
   ],
   "id": "db6b8d09c8f8326a",
   "outputs": [
    {
     "name": "stdout",
     "output_type": "stream",
     "text": [
      "\n",
      "Spiral Order:\n",
      "[80, 35, 39, 11, 34, 78, 97, 74, 59, 66, 74, 16, 47, 41, 50, 17, 17, 67, 24, 68, 27, 84, 82, 65, 6]\n"
     ]
    }
   ],
   "execution_count": 5
  },
  {
   "metadata": {},
   "cell_type": "code",
   "outputs": [],
   "execution_count": null,
   "source": "",
   "id": "c43456f170a6634b"
  },
  {
   "metadata": {},
   "cell_type": "code",
   "outputs": [],
   "execution_count": null,
   "source": "",
   "id": "a8768bcd1b7ddebe"
  },
  {
   "metadata": {},
   "cell_type": "code",
   "outputs": [],
   "execution_count": null,
   "source": "",
   "id": "6c1752d2b96430f"
  },
  {
   "metadata": {},
   "cell_type": "code",
   "outputs": [],
   "execution_count": null,
   "source": "",
   "id": "300cccf63a610f9c"
  },
  {
   "metadata": {},
   "cell_type": "code",
   "outputs": [],
   "execution_count": null,
   "source": "",
   "id": "8f8fd2f57352ff1b"
  }
 ],
 "metadata": {
  "kernelspec": {
   "display_name": "Python 3",
   "language": "python",
   "name": "python3"
  },
  "language_info": {
   "codemirror_mode": {
    "name": "ipython",
    "version": 2
   },
   "file_extension": ".py",
   "mimetype": "text/x-python",
   "name": "python",
   "nbconvert_exporter": "python",
   "pygments_lexer": "ipython2",
   "version": "2.7.6"
  }
 },
 "nbformat": 4,
 "nbformat_minor": 5
}
